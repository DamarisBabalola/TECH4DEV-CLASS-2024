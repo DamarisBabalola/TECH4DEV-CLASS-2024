{
 "cells": [
  {
   "cell_type": "markdown",
   "id": "1e7ac14f",
   "metadata": {},
   "source": [
    "# Question 1: Write a program that finds the maximum value of the given list, assuming that the list contains at least one element."
   ]
  },
  {
   "cell_type": "code",
   "execution_count": 2,
   "id": "f5f0d285",
   "metadata": {},
   "outputs": [
    {
     "data": {
      "text/plain": [
       "[2, 4, 7, 4, 23, 5, 1, 4, 8, 9]"
      ]
     },
     "execution_count": 2,
     "metadata": {},
     "output_type": "execute_result"
    }
   ],
   "source": [
    "work1=[2,4,7,4,23,5,1,4,8,9]\n",
    "work1"
   ]
  },
  {
   "cell_type": "code",
   "execution_count": 3,
   "id": "32e84363",
   "metadata": {},
   "outputs": [
    {
     "name": "stdout",
     "output_type": "stream",
     "text": [
      "23\n"
     ]
    }
   ],
   "source": [
    "print(max(work1))"
   ]
  },
  {
   "cell_type": "markdown",
   "id": "ce84a60d",
   "metadata": {},
   "source": [
    "# Question 2:Write a program that calculates the average value of the given list."
   ]
  },
  {
   "cell_type": "code",
   "execution_count": 4,
   "id": "40e79d31",
   "metadata": {},
   "outputs": [
    {
     "data": {
      "text/plain": [
       "24.6"
      ]
     },
     "execution_count": 4,
     "metadata": {},
     "output_type": "execute_result"
    }
   ],
   "source": [
    "work2=[4,7,1,5,11,53,12,46,84,23]\n",
    "n=len(work2)\n",
    "get_sum=sum(work2)\n",
    "average=get_sum/n\n",
    "average"
   ]
  },
  {
   "cell_type": "markdown",
   "id": "c93713d8",
   "metadata": {},
   "source": [
    "# Question 3: Write a program that prints the given list of integers in reverse order."
   ]
  },
  {
   "cell_type": "code",
   "execution_count": 6,
   "id": "5ca514c0",
   "metadata": {},
   "outputs": [
    {
     "name": "stdout",
     "output_type": "stream",
     "text": [
      "[5, 89, 45, 14, 53, 23, 45, 7, 6, 2]\n"
     ]
    }
   ],
   "source": [
    "work3=[2,6,7,45,23,53,14,45,89,5]\n",
    "print(work3[::-1])"
   ]
  },
  {
   "cell_type": "markdown",
   "id": "acd370ce",
   "metadata": {},
   "source": [
    "# Question 4:Write a program that accepts two lists of integers and prints true if each element in the first list is less than the element at the same index in the second list. Your program should print false if the lists are not the same length."
   ]
  },
  {
   "cell_type": "code",
   "execution_count": 7,
   "id": "66b7ea66",
   "metadata": {},
   "outputs": [
    {
     "name": "stdout",
     "output_type": "stream",
     "text": [
      "True\n"
     ]
    }
   ],
   "source": [
    "element1=[1,2,3,4,5,6,7]\n",
    "element2=[5,6,7,8,9,1,3,4,5]\n",
    "if len(element1)<len(element2):\n",
    "    print(True)\n",
    "else:\n",
    "    print(false)"
   ]
  },
  {
   "cell_type": "markdown",
   "id": "86f8f521",
   "metadata": {},
   "source": [
    "# question 5. Write a program that accepts a list of integers and two indexes and swaps the elements at those indexes"
   ]
  },
  {
   "cell_type": "code",
   "execution_count": 1,
   "id": "5985ebb1",
   "metadata": {},
   "outputs": [
    {
     "name": "stdout",
     "output_type": "stream",
     "text": [
      "25\n",
      "39\n",
      "updated list after swapping Invalid indices. Please provide valid indices within the range of the list.\n"
     ]
    }
   ],
   "source": [
    "def swap_elements(lst, index1, index2):\n",
    "    # Check if the indices are within the bounds of the list\n",
    "    if 0 <= index1 < len(lst) and 0 <= index2 < len(lst):\n",
    "        # Swap the elements at the specified indices\n",
    "        lst[index1], lst[index2] = lst[index2], lst[index1]\n",
    "        return lst\n",
    "    else:\n",
    "        return \"Invalid indices. Please provide valid indices within the range of the list.\"\n",
    "data = [4,5,6,7,8,2]\n",
    "index_to_swap1 = int(input(\"2\"))\n",
    "index_to_swap2 = int(input(\"3\"))\n",
    "result =swap_elements(data, index_to_swap1, index_to_swap2)\n",
    "print(\"updated list after swapping\", result)\n"
   ]
  },
  {
   "cell_type": "code",
   "execution_count": null,
   "id": "108b78d7",
   "metadata": {},
   "outputs": [],
   "source": []
  },
  {
   "cell_type": "markdown",
   "id": "52cde302",
   "metadata": {},
   "source": [
    "# Question 6 Write a program that accepts two lists of integers and prints a new list containing all elements of the first list followed by all elements of the second."
   ]
  },
  {
   "cell_type": "code",
   "execution_count": 8,
   "id": "537dd6ec",
   "metadata": {},
   "outputs": [
    {
     "data": {
      "text/plain": [
       "[1, 2, 3, 4, 5, 6, 7, 5, 6, 7, 8, 9, 1, 3, 4, 5]"
      ]
     },
     "execution_count": 8,
     "metadata": {},
     "output_type": "execute_result"
    }
   ],
   "source": [
    "element1=[1,2,3,4,5,6,7]\n",
    "element2=[5,6,7,8,9,1,3,4,5]\n",
    "joined_element=(element1+element2)\n",
    "joined_element"
   ]
  },
  {
   "cell_type": "markdown",
   "id": "91ca985a",
   "metadata": {},
   "source": [
    "# Question7. Write a program that accepts a list of integers and an integer value as its parameters and prints the last index at which the value occurs in the list. The program should print –1 if the value is not found."
   ]
  },
  {
   "cell_type": "code",
   "execution_count": 2,
   "id": "a8b07e6c",
   "metadata": {},
   "outputs": [
    {
     "name": "stdout",
     "output_type": "stream",
     "text": [
      "5:1\n",
      "The last index of 1 is: -1\n",
      "Invalid input. Please enter a valid integer value.\n"
     ]
    }
   ],
   "source": [
    "def find_last_index(lst, value):\n",
    "    # Use reversed() to iterate in reverse order\n",
    "    for i in reversed(range(len(lst))):\n",
    "        if lst[i] == value:\n",
    "            return i\n",
    "    else:\n",
    "      return -1\n",
    "\n",
    "input_list = [74, 85, 102, 99, 101, 85, 56]\n",
    "search_value = int(input(\"5:\"))\n",
    "result = find_last_index(input_list, search_value)\n",
    "print(f\"The last index of {search_value} is: {result}\")\n",
    "print(\"Invalid input. Please enter a valid integer value.\")\n"
   ]
  },
  {
   "cell_type": "markdown",
   "id": "b2542282",
   "metadata": {},
   "source": [
    "# Question 8. Write a program that prints the range of values in a list of integers. The range is defined as 1 more than the difference between the maximum and minimum values in the list."
   ]
  },
  {
   "cell_type": "code",
   "execution_count": 3,
   "id": "e987bbf7",
   "metadata": {},
   "outputs": [
    {
     "name": "stdout",
     "output_type": "stream",
     "text": [
      "16\n"
     ]
    }
   ],
   "source": [
    "entry_list = [24,17,18,15,12,9]\n",
    "minimum_value = min(entry_list)\n",
    "maximum_value = max(entry_list)\n",
    "value_range = (maximum_value- minimum_value + 1)\n",
    "print(value_range)"
   ]
  },
  {
   "cell_type": "markdown",
   "id": "708e9823",
   "metadata": {},
   "source": [
    "# Question 9. Write a program that accepts a list of integers, a minimum value, and a maximum value and prints the count of how many elements from the list fall between the minimum and maximum (inclusive)."
   ]
  },
  {
   "cell_type": "code",
   "execution_count": 4,
   "id": "e6be4dda",
   "metadata": {
    "scrolled": true
   },
   "outputs": [
    {
     "name": "stdout",
     "output_type": "stream",
     "text": [
      "range(9, 24)\n"
     ]
    }
   ],
   "source": [
    "data =[24,10,15,17,12,9]\n",
    "mini = min(data)\n",
    "maxi = max(data)\n",
    "rangevalue = range(mini,maxi)\n",
    "print(rangevalue)"
   ]
  },
  {
   "cell_type": "markdown",
   "id": "9f277730",
   "metadata": {},
   "source": [
    "# Question 10.Write a program that accepts a list of real numbers and prints true if the list is in sorted (nondecreasing) order and false otherwise."
   ]
  },
  {
   "cell_type": "code",
   "execution_count": 5,
   "id": "ccc25de5",
   "metadata": {},
   "outputs": [
    {
     "name": "stdout",
     "output_type": "stream",
     "text": [
      "The list is sorted: False\n"
     ]
    }
   ],
   "source": [
    "def is_sorted(lst):\n",
    "\n",
    "    if not lst:\n",
    "        return True  # An empty list is considered sorted\n",
    "\n",
    "    return all(lst[i] <= lst[i + 1] for i in range(len(lst) - 1))\n",
    "\n",
    "try:\n",
    "\n",
    "    input_list = [1,3,2,6,8,9]\n",
    "\n",
    " \n",
    "    result = is_sorted(input_list)\n",
    "\n",
    "\n",
    "    print(f\"The list is sorted: {result}\")\n",
    "except ValueError:\n",
    "    print(\"Invalid input. Please enter a valid list of real numbers.\")"
   ]
  },
  {
   "cell_type": "code",
   "execution_count": null,
   "id": "bb459446",
   "metadata": {},
   "outputs": [],
   "source": []
  }
 ],
 "metadata": {
  "kernelspec": {
   "display_name": "Python 3 (ipykernel)",
   "language": "python",
   "name": "python3"
  },
  "language_info": {
   "codemirror_mode": {
    "name": "ipython",
    "version": 3
   },
   "file_extension": ".py",
   "mimetype": "text/x-python",
   "name": "python",
   "nbconvert_exporter": "python",
   "pygments_lexer": "ipython3",
   "version": "3.11.5"
  }
 },
 "nbformat": 4,
 "nbformat_minor": 5
}
