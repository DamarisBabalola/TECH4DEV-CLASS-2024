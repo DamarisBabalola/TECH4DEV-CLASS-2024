{
 "cells": [
  {
   "cell_type": "markdown",
   "id": "fda852fc",
   "metadata": {},
   "source": [
    "#Question 1. Write a program to produce the following output using for loop"
   ]
  },
  {
   "cell_type": "code",
   "execution_count": 1,
   "id": "73dd85d6",
   "metadata": {},
   "outputs": [
    {
     "name": "stdout",
     "output_type": "stream",
     "text": [
      "+----+\n",
      "\\    /\n",
      "/    \\\n",
      "\\    /\n",
      "/    \\\n",
      "\\    /\n",
      "/    \\\n",
      "\\    /\n",
      "/    \\\n",
      "\\    /\n",
      "/    \\\n",
      "\\    /\n",
      "/    \\\n",
      "+----+\n"
     ]
    }
   ],
   "source": [
    "num_rows = 8\n",
    "for i in range(num_rows):\n",
    "    if i == 0 or i == num_rows - 1:\n",
    "        print(\"+----+\")\n",
    "    else:\n",
    "        print(\"\\\\    /\")\n",
    "        print(\"/    \\\\\")"
   ]
  },
  {
   "cell_type": "markdown",
   "id": "d03ef5c9",
   "metadata": {},
   "source": [
    "#Question2. Write a program to produce the following output using for loop"
   ]
  },
  {
   "cell_type": "code",
   "execution_count": 2,
   "id": "dbc3cb38",
   "metadata": {},
   "outputs": [
    {
     "name": "stdout",
     "output_type": "stream",
     "text": [
      "**********\n",
      "**********\n",
      "**********\n",
      "**********\n",
      "**********\n"
     ]
    }
   ],
   "source": [
    "num_rows = 5\n",
    "num_columns = 10\n",
    "for i in range(num_rows):\n",
    "    print('*' * num_columns)"
   ]
  },
  {
   "cell_type": "markdown",
   "id": "4d3a3d49",
   "metadata": {},
   "source": [
    "#question3. Complete the code for the following for loop so that it prints the following numbers, one per line:\n",
    "for in range(1,7):"
   ]
  },
  {
   "cell_type": "code",
   "execution_count": 3,
   "id": "bb710ed2",
   "metadata": {},
   "outputs": [
    {
     "name": "stdout",
     "output_type": "stream",
     "text": [
      "1\n",
      "2\n",
      "3\n",
      "4\n",
      "5\n",
      "6\n"
     ]
    }
   ],
   "source": [
    "for x in range(1, 7):\n",
    "    print(x)"
   ]
  },
  {
   "cell_type": "code",
   "execution_count": 4,
   "id": "61753c07",
   "metadata": {},
   "outputs": [
    {
     "name": "stdout",
     "output_type": "stream",
     "text": [
      "1\n",
      "2\n",
      "4\n",
      "30\n",
      "-7\n",
      "97\n",
      "-4\n",
      "2\n",
      "4\n",
      "19\n",
      "20\n",
      "-3\n",
      "94\n",
      "14\n",
      "3\n",
      "6\n",
      "34\n",
      "10\n",
      "1\n",
      "91\n",
      "32\n",
      "4\n",
      "8\n",
      "49\n",
      "0\n",
      "5\n",
      "88\n",
      "50\n",
      "5\n",
      "10\n",
      "64\n",
      "-10\n",
      "9\n",
      "85\n",
      "68\n",
      "6\n",
      "12\n",
      "79\n",
      "-20\n",
      "13\n",
      "82\n",
      "86\n"
     ]
    }
   ],
   "source": [
    "for num in [1, 2, 4, 30, -7, 97, -4, 2, 4, 19, 20, -3, 94, 14, 3, 6, 34, 10, 1, 91, 32, 4, 8, 49, 0, 5, 88, 50, 5, 10, 64, -10, 9, 85, 68, 6, 12, 79, -20, 13, 82, 86]:\n",
    "    print(num)"
   ]
  },
  {
   "cell_type": "markdown",
   "id": "eae766d4",
   "metadata": {},
   "source": [
    "#Question 4. Write a program to produce the following output using for loops. Then use a class constant to make it possible to change the number of lines in the figure."
   ]
  },
  {
   "cell_type": "code",
   "execution_count": 5,
   "id": "dbcc2b97",
   "metadata": {},
   "outputs": [
    {
     "name": "stdout",
     "output_type": "stream",
     "text": [
      "1\n",
      "22\n",
      "333\n",
      "4444\n",
      "55555\n",
      "666666\n",
      "7777777\n"
     ]
    }
   ],
   "source": [
    "class NumberTriangle:\n",
    "    NUM_LINES = 7\n",
    "    def print_triangle(self):\n",
    "        for i in range(1, self.NUM_LINES + 1):\n",
    "            print(str(i) * i)\n",
    "triangle = NumberTriangle()\n",
    "triangle.print_triangle()"
   ]
  },
  {
   "cell_type": "code",
   "execution_count": null,
   "id": "aac70893",
   "metadata": {},
   "outputs": [],
   "source": []
  }
 ],
 "metadata": {
  "kernelspec": {
   "display_name": "Python 3 (ipykernel)",
   "language": "python",
   "name": "python3"
  },
  "language_info": {
   "codemirror_mode": {
    "name": "ipython",
    "version": 3
   },
   "file_extension": ".py",
   "mimetype": "text/x-python",
   "name": "python",
   "nbconvert_exporter": "python",
   "pygments_lexer": "ipython3",
   "version": "3.11.5"
  }
 },
 "nbformat": 4,
 "nbformat_minor": 5
}
