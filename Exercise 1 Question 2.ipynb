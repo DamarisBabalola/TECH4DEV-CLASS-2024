{
 "cells": [
  {
   "cell_type": "markdown",
   "id": "270824fd",
   "metadata": {},
   "source": [
    "# Question 2:\tWrite a print statement to produce this output."
   ]
  },
  {
   "cell_type": "code",
   "execution_count": 1,
   "id": "6f7e9e4c",
   "metadata": {},
   "outputs": [
    {
     "name": "stdout",
     "output_type": "stream",
     "text": [
      "\\/ \\ \\// \\\\ \\/// \\\\\n"
     ]
    }
   ],
   "source": [
    "print(\"\\/ \\\\ \\// \\\\\\ \\/// \\\\\\\\\")"
   ]
  },
  {
   "cell_type": "markdown",
   "id": "aff8aa10",
   "metadata": {},
   "source": [
    "# Question 3. What print statements will generate this output?"
   ]
  },
  {
   "cell_type": "code",
   "execution_count": 1,
   "id": "b0fcf64d",
   "metadata": {},
   "outputs": [
    {
     "name": "stdout",
     "output_type": "stream",
     "text": [
      "This quote is from \n",
      "\n",
      " Irish poet Oscar Wilde: \n",
      "\n",
      "\"Music makes one feel so romantic \n",
      "\n",
      "- at least it always gets on one's nerves\n",
      "\n",
      " – which is the same thing nowadays.\"\n"
     ]
    }
   ],
   "source": [
    "print(\"This quote is from \\n\\n Irish poet Oscar Wilde: \\n\\n\\\"Music makes one feel so romantic \\n\\n- at least it always gets on one's nerves\\n\\n – which is the same thing nowadays.\\\"\")"
   ]
  },
  {
   "cell_type": "markdown",
   "id": "e7af299d",
   "metadata": {},
   "source": [
    "# Question 4. What print statements will generate this output?"
   ]
  },
  {
   "cell_type": "code",
   "execution_count": 2,
   "id": "bfb4ff6a",
   "metadata": {},
   "outputs": [
    {
     "name": "stdout",
     "output_type": "stream",
     "text": [
      "A \"quoted\" String is \n",
      "\n",
      " 'much' better if you learn \n",
      "\n",
      " the rules of \"escape sequences.\" \n",
      "\n",
      "  Also, \"\" represents an empty String. \n",
      "\n",
      " Don't forget: use \\\" instead of \" ! \n",
      "\n",
      " '' is not the same as \"\n"
     ]
    }
   ],
   "source": [
    "print(\"A \\\"quoted\\\" String is \\n\\n 'much' better if you learn \\n\\n the rules of \\\"escape sequences.\\\" \\n\\n  Also, \\\"\\\" represents an empty String. \\n\\n Don't forget: use \\\\\\\" instead of \\\" ! \\n\\n '' is not the same as \\\"\")"
   ]
  },
  {
   "cell_type": "markdown",
   "id": "01e3fb9b",
   "metadata": {},
   "source": [
    "# Question 5: What values result from the following expressions?"
   ]
  },
  {
   "cell_type": "code",
   "execution_count": 2,
   "id": "aad5f7f2",
   "metadata": {},
   "outputs": [
    {
     "name": "stdout",
     "output_type": "stream",
     "text": [
      "1.8\n"
     ]
    }
   ],
   "source": [
    "print(9/5)"
   ]
  },
  {
   "cell_type": "code",
   "execution_count": 3,
   "id": "0ac51249",
   "metadata": {},
   "outputs": [
    {
     "name": "stdout",
     "output_type": "stream",
     "text": [
      "15\n"
     ]
    }
   ],
   "source": [
    "print(695%20)"
   ]
  },
  {
   "cell_type": "code",
   "execution_count": 4,
   "id": "380eb2a3",
   "metadata": {},
   "outputs": [
    {
     "name": "stdout",
     "output_type": "stream",
     "text": [
      "37\n"
     ]
    }
   ],
   "source": [
    "print(7+6*5)"
   ]
  },
  {
   "cell_type": "code",
   "execution_count": 5,
   "id": "f26b6731",
   "metadata": {},
   "outputs": [
    {
     "name": "stdout",
     "output_type": "stream",
     "text": [
      "47\n"
     ]
    }
   ],
   "source": [
    "print(7 * 6 + 5)"
   ]
  },
  {
   "cell_type": "code",
   "execution_count": 6,
   "id": "8bad1c91",
   "metadata": {},
   "outputs": [
    {
     "name": "stdout",
     "output_type": "stream",
     "text": [
      "9.6\n"
     ]
    }
   ],
   "source": [
    "print(248 % 100 / 5)"
   ]
  },
  {
   "cell_type": "code",
   "execution_count": 7,
   "id": "65c1b94d",
   "metadata": {},
   "outputs": [
    {
     "name": "stdout",
     "output_type": "stream",
     "text": [
      "15.75\n"
     ]
    }
   ],
   "source": [
    "print(6 * 3 - 9 / 4)"
   ]
  },
  {
   "cell_type": "code",
   "execution_count": 8,
   "id": "21ba5b84",
   "metadata": {},
   "outputs": [
    {
     "name": "stdout",
     "output_type": "stream",
     "text": [
      "-8\n"
     ]
    }
   ],
   "source": [
    "print((5 - 7) * 4)"
   ]
  },
  {
   "cell_type": "code",
   "execution_count": 9,
   "id": "87804bfb",
   "metadata": {},
   "outputs": [
    {
     "name": "stdout",
     "output_type": "stream",
     "text": [
      "9\n"
     ]
    }
   ],
   "source": [
    "print(6 + (18 % (17 - 12)))"
   ]
  },
  {
   "cell_type": "code",
   "execution_count": null,
   "id": "8e3fe570",
   "metadata": {},
   "outputs": [],
   "source": []
  }
 ],
 "metadata": {
  "kernelspec": {
   "display_name": "Python 3 (ipykernel)",
   "language": "python",
   "name": "python3"
  },
  "language_info": {
   "codemirror_mode": {
    "name": "ipython",
    "version": 3
   },
   "file_extension": ".py",
   "mimetype": "text/x-python",
   "name": "python",
   "nbconvert_exporter": "python",
   "pygments_lexer": "ipython3",
   "version": "3.11.5"
  }
 },
 "nbformat": 4,
 "nbformat_minor": 5
}
